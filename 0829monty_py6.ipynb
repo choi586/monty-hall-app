{
  "nbformat": 4,
  "nbformat_minor": 0,
  "metadata": {
    "colab": {
      "provenance": [],
      "authorship_tag": "ABX9TyM3fdciiNodEE7UyRYtzKJu"
    },
    "kernelspec": {
      "name": "python3",
      "display_name": "Python 3"
    },
    "language_info": {
      "name": "python"
    }
  },
  "cells": [
    {
      "cell_type": "code",
      "execution_count": null,
      "metadata": {
        "id": "Bvxofl8YGCS2"
      },
      "outputs": [],
      "source": [
        "import random, math\n",
        "import numpy as np\n",
        "import pandas as pd\n",
        "import matplotlib.pyplot as plt\n",
        "!pip install koreanize-matplotlib\n",
        "import koreanize_matplotlib\n",
        "\n",
        "# 그래프 설정\n",
        "plt.rcParams[\"figure.figsize\"] = (6,4)\n",
        "plt.rcParams[\"axes.grid\"] = True\n"
      ]
    },
    {
      "cell_type": "code",
      "source": [
        "def monty_hall_once(strategy=\"switch\"):\n",
        "    prize  = random.randint(0, 2)      # 자동차 문\n",
        "    choice = random.randint(0, 2)      # 참가자의 첫 선택\n",
        "    opened_candidates = [d for d in (0,1,2) if d != choice and d != prize]\n",
        "    opened = random.choice(opened_candidates)\n",
        "    switched = [d for d in (0,1,2) if d != choice and d != opened][0]\n",
        "\n",
        "    if strategy == \"stay\":\n",
        "        return choice == prize\n",
        "    else:  # \"switch\"\n",
        "        return switched == prize"
      ],
      "metadata": {
        "id": "umACku_HGg75"
      },
      "execution_count": 16,
      "outputs": []
    },
    {
      "cell_type": "code",
      "source": [
        "def simulate(n=1000, strategy=\"switch\"):\n",
        "    wins = sum(monty_hall_once(strategy) for _ in range(n))\n",
        "    loses = n - wins\n",
        "    win_rate = wins / n\n",
        "    print(f\"{strategy.upper()} — n={n}, wins={wins}, loses={loses}, win_rate={win_rate:.3f}\")\n",
        "\n",
        "    df = pd.DataFrame({\n",
        "        \"Category\": [\"Win\",\"Lose\"],\n",
        "        \"Count\": [wins, loses]\n",
        "    })\n",
        "    ax = df.plot.bar(x=\"Category\", y=\"Count\", legend=False)\n",
        "    ax.set_title(f\"{strategy.upper()} (n={n}) – wins={wins} ({win_rate*100:.1f}%)\")\n",
        "    ax.set_xlabel(\"\")\n",
        "    ax.set_ylabel(\"Count\")\n",
        "    plt.show()\n",
        "    return wins, loses, win_rate\n",
        "\n",
        "# 예시 실행\n",
        "_ = simulate(n=300, strategy=\"switch\")\n",
        "_ = simulate(n=300, strategy=\"stay\")"
      ],
      "metadata": {
        "id": "UZiYcjR_GVG3"
      },
      "execution_count": null,
      "outputs": []
    },
    {
      "cell_type": "code",
      "source": [
        "def cumulative_plot(n=200, strategy=\"switch\"):\n",
        "    cum_win = 0\n",
        "    rates = []\n",
        "    for i in range(1, n+1):\n",
        "        if monty_hall_once(strategy):\n",
        "            cum_win += 1\n",
        "        rates.append(cum_win/i)\n",
        "\n",
        "    x = np.arange(1, n+1)\n",
        "    plt.plot(x, rates, marker=\".\", linestyle=\"-\", alpha=0.8)\n",
        "    plt.axhline(2/3 if strategy==\"switch\" else 1/3, color=\"red\", linestyle=\"--\", label=\"theory\")\n",
        "    plt.title(f\"Cumulative Win Rate – {strategy.upper()} (n={n})\")\n",
        "    plt.xlabel(\"Trials\")\n",
        "    plt.ylabel(\"Win rate\")\n",
        "    plt.legend()\n",
        "    plt.show()\n",
        "\n",
        "# 예시\n",
        "cumulative_plot(n=200, strategy=\"switch\")"
      ],
      "metadata": {
        "id": "SktMPoDgHGGH"
      },
      "execution_count": null,
      "outputs": []
    },
    {
      "cell_type": "markdown",
      "source": [
        "# 정규분포\n",
        "\n",
        "랜덤 확률 실험을 여러 번 반복했을 때 그 결과의 평균(혹은 비율)은 중심극한정리에 의해 정규분포로 수렴한다.\n"
      ],
      "metadata": {
        "id": "eatYvd8gJZ8l"
      }
    },
    {
      "cell_type": "code",
      "source": [
        "# 평균(mu) = 0, 표준편차(sigma) = 1\n",
        "mu = 0\n",
        "sigma = 1\n",
        "\n",
        "# x 범위 (-4 ~ 4, 400개 점)\n",
        "x = np.linspace(-4, 4, 400)\n",
        "\n",
        "# 표준 정규분포 확률밀도함수 (PDF)\n",
        "y = (1/(np.sqrt(2*np.pi)*sigma)) * np.exp(-0.5*((x-mu)/sigma)**2)\n",
        "\n",
        "# 그래프 그리기\n",
        "plt.figure(figsize=(8,5))\n",
        "plt.plot(x, y, color=\"blue\", label=\"N(0,1)\")   # N(0,1): 표준 정규분포\n",
        "plt.axvline(mu, color=\"red\", linestyle=\"--\", label=\"Mean (0)\")  # 평균선\n",
        "plt.title(\"Standard Normal Distribution (mean=0, std=1)\")\n",
        "plt.xlabel(\"x\")\n",
        "plt.ylabel(\"Probability Density\")\n",
        "plt.legend()\n",
        "plt.grid(True)\n",
        "plt.show()"
      ],
      "metadata": {
        "id": "yef-pSNjJqbJ"
      },
      "execution_count": null,
      "outputs": []
    },
    {
      "cell_type": "code",
      "source": [
        "p = 2/3   # 몬티홀 승률 (switch 전략)\n",
        "\n",
        "# 시도 횟수 3가지\n",
        "n_values = [10, 100, 1000]\n",
        "\n",
        "x = np.linspace(0.4, 0.9, 400)  # 승률 범위\n",
        "\n",
        "plt.figure(figsize=(10,6))\n",
        "\n",
        "for n in n_values:\n",
        "    mu = p\n",
        "    sigma = np.sqrt(p*(1-p)/n)  # 표준오차\n",
        "    y = (1/(np.sqrt(2*np.pi)*sigma)) * np.exp(-0.5*((x-mu)/sigma)**2)\n",
        "    plt.plot(x*100, y, label=f\"n={n}\")\n",
        "\n",
        "plt.axvline(p*100, color=\"red\", linestyle=\"--\", label=\"True mean 66.7%\")\n",
        "plt.title(\"Monty Hall Win Rate Distribution by Sample Size\")\n",
        "plt.xlabel(\"Winning rate (%)\")\n",
        "plt.ylabel(\"Probability Density\")\n",
        "plt.legend()\n",
        "plt.grid(True)\n",
        "plt.show()"
      ],
      "metadata": {
        "id": "gU1sBFBWK77w"
      },
      "execution_count": null,
      "outputs": []
    },
    {
      "cell_type": "code",
      "source": [
        "# 몬티홀(변경) 이론값과 표본 크기\n",
        "p = 2/3        # 이론 승률 = 0.666...\n",
        "n = 100\n",
        "z = 1.96       # 95% 신뢰수준\n",
        "\n",
        "# 정규근사 파라미터 (승률의 분포)\n",
        "mu = p\n",
        "se = np.sqrt(p*(1-p)/n)\n",
        "\n",
        "# 95% 신뢰구간\n",
        "ci_low  = mu - z*se\n",
        "ci_high = mu + z*se\n",
        "\n",
        "# 곡선용 x, y (승률을 % 단위로 표시)\n",
        "x = np.linspace(mu - 4*se, mu + 4*se, 600)\n",
        "y = (1/(se*np.sqrt(2*np.pi))) * np.exp(-0.5*((x-mu)/se)**2)\n",
        "\n",
        "plt.figure(figsize=(9,5))\n",
        "plt.plot(x*100, y, label=f\"Normal approx (n={n})\")\n",
        "plt.axvline(mu*100, color=\"red\", linestyle=\"--\", label=f\"mean = {mu*100:.1f}%\")\n",
        "\n",
        "# 95% 신뢰구간 음영\n",
        "mask = (x >= ci_low) & (x <= ci_high)\n",
        "plt.fill_between((x*100)[mask], y[mask], alpha=0.25, label=f\"95% CI [{ci_low*100:.1f}%, {ci_high*100:.1f}%]\")\n",
        "\n",
        "plt.title(\"Monty Hall (Switch) — Win Rate Distribution, n=100 with 95% CI\")\n",
        "plt.xlabel(\"Winning rate (%)\")\n",
        "plt.ylabel(\"Density\")\n",
        "plt.legend()\n",
        "plt.grid(True)\n",
        "plt.tight_layout()\n",
        "plt.show()\n",
        "\n",
        "print(f\"SE = {se:.4f}\")\n",
        "print(f\"95% CI = [{ci_low*100:.1f}%, {ci_high*100:.1f}%]\")"
      ],
      "metadata": {
        "id": "UnHgTYRdLeg0"
      },
      "execution_count": null,
      "outputs": []
    },
    {
      "cell_type": "markdown",
      "source": [
        "# 신뢰수준 95%\n",
        "\n",
        "95% 신뢰수준은 “안전성과 실용성의 균형점”이라서 통계학·과학 연구에서 기본값처럼 쓰인다."
      ],
      "metadata": {
        "id": "p7jb1_QzPaWt"
      }
    },
    {
      "cell_type": "code",
      "source": [
        "def margin_and_ci(n, p, z=1.96):  # z=1.96(95%), 2.576(99%)\n",
        "    se = math.sqrt(p*(1-p)/n)\n",
        "    e = z * se\n",
        "    return se, e, (p-e, p+e)\n",
        "\n",
        "def pretty_ci(n, p=2/3):\n",
        "    for z, name in [(1.96,\"95%\"), (2.576,\"99%\")]:\n",
        "        se, e, (lo, hi) = margin_and_ci(n, p, z)\n",
        "        print(f\"{name}: n={n}, SE={se:.4f}, ±{e*100:.1f}%p → [{lo*100:.1f}%, {hi*100:.1f}%]\")\n",
        "\n",
        "# 예시\n",
        "pretty_ci(100)   # 100회일 때\n",
        "pretty_ci(300)   # 300회일 때\n",
        "pretty_ci(1000)  # 1000회일 때"
      ],
      "metadata": {
        "id": "mlfyE9QqGVOJ"
      },
      "execution_count": null,
      "outputs": []
    },
    {
      "cell_type": "code",
      "source": [
        "# 실행 후 셀 출력 맨 아래에 슬라이더 나타남\n",
        "from ipywidgets import interact, IntSlider, Dropdown\n",
        "\n",
        "def live(n=300, strategy=\"switch\"):\n",
        "    simulate(n=n, strategy=strategy)\n",
        "    cumulative_plot(n=n, strategy=strategy)\n",
        "    pretty_ci(n)\n",
        "\n",
        "interact(\n",
        "    live,\n",
        "    n=IntSlider(value=300, min=10, max=5000, step=10, description=\"trials\"),\n",
        "    strategy=Dropdown(options=[(\"Switch\",\"switch\"),(\"Stay\",\"stay\")], value=\"switch\")\n",
        ");"
      ],
      "metadata": {
        "id": "M69_11ZkGVQe"
      },
      "execution_count": null,
      "outputs": []
    }
  ]
}